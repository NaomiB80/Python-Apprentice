{
 "cells": [
  {
   "cell_type": "code",
   "execution_count": null,
   "metadata": {},
   "outputs": [],
   "source": [
    "\"\"\"\n",
    "Programmable turtle graphics\n",
    "\n",
    "Use what you've learned about lists, loop, cycle, slice and zip to draw a pattern\n",
    "\n",
    "\"\"\"\n",
    "import turtle\n",
    "t = turtle.Turtle() # Create a turtle like in previous programs, like 04_Crazy_Tina.py\n",
    "\n",
    "colors = ['purple', 'pink', 'orange', 'yellow', 'blue', 'green'] # Make a list of colors\n",
    "\n",
    "directions = [ # Create a list of directions and angles\n",
    "    (90, 10),\n",
    "    (50, 30), \n",
    "    (120, 7),\n",
    "    (40, 40),\n",
    "    (170, 10),\n",
    "    (90, 50),... # Add more\n",
    "]\n",
    "\n",
    "# Zip the colors and directions together, then unpack them. THere is a good example of this\n",
    "# in 10_More_iterables.ipynb in the discussion of zip()\n",
    "\n",
    "for color, (angle, distance) in zip(colors, directions):\n",
    "    t.color(color)\n",
    "    t.forward(distance)\n",
    "    t.left(angle)\n",
    "\n",
    "\n",
    "# Don't forget the special way to end a turtle program. \n",
    "turtle.exitonclick()"
   ]
  }
 ],
 "metadata": {
  "kernelspec": {
   "display_name": "Python 3",
   "language": "python",
   "name": "python3"
  },
  "language_info": {
   "codemirror_mode": {
    "name": "ipython",
    "version": 3
   },
   "file_extension": ".py",
   "mimetype": "text/x-python",
   "name": "python",
   "nbconvert_exporter": "python",
   "pygments_lexer": "ipython3",
   "version": "3.12.4"
  }
 },
 "nbformat": 4,
 "nbformat_minor": 2
}
